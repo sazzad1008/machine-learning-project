{
 "cells": [
  {
   "cell_type": "code",
   "execution_count": 1,
   "id": "996dfbab",
   "metadata": {},
   "outputs": [],
   "source": [
    "import pandas as pd\n",
    "import numpy as np"
   ]
  },
  {
   "cell_type": "code",
   "execution_count": 2,
   "id": "68f660eb",
   "metadata": {},
   "outputs": [
    {
     "data": {
      "text/html": [
       "<div>\n",
       "<style scoped>\n",
       "    .dataframe tbody tr th:only-of-type {\n",
       "        vertical-align: middle;\n",
       "    }\n",
       "\n",
       "    .dataframe tbody tr th {\n",
       "        vertical-align: top;\n",
       "    }\n",
       "\n",
       "    .dataframe thead th {\n",
       "        text-align: right;\n",
       "    }\n",
       "</style>\n",
       "<table border=\"1\" class=\"dataframe\">\n",
       "  <thead>\n",
       "    <tr style=\"text-align: right;\">\n",
       "      <th></th>\n",
       "      <th>id</th>\n",
       "      <th>timestamp</th>\n",
       "      <th>url</th>\n",
       "      <th>tweet</th>\n",
       "      <th>replies</th>\n",
       "      <th>retweets</th>\n",
       "      <th>quotes</th>\n",
       "      <th>likes</th>\n",
       "    </tr>\n",
       "  </thead>\n",
       "  <tbody>\n",
       "    <tr>\n",
       "      <th>0</th>\n",
       "      <td>1320716067111653378</td>\n",
       "      <td>2020-10-26 13:17</td>\n",
       "      <td>https://twitter.com/JoeBiden/status/1320716067...</td>\n",
       "      <td>This is the most important election of our lif...</td>\n",
       "      <td>1688</td>\n",
       "      <td>2783</td>\n",
       "      <td>289</td>\n",
       "      <td>20898</td>\n",
       "    </tr>\n",
       "    <tr>\n",
       "      <th>1</th>\n",
       "      <td>1320516150988451841</td>\n",
       "      <td>2020-10-26 00:02</td>\n",
       "      <td>https://twitter.com/JoeBiden/status/1320516150...</td>\n",
       "      <td>Folks, the I Will Vote concert is finally here...</td>\n",
       "      <td>4497</td>\n",
       "      <td>3686</td>\n",
       "      <td>489</td>\n",
       "      <td>18406</td>\n",
       "    </tr>\n",
       "    <tr>\n",
       "      <th>2</th>\n",
       "      <td>1320507935756328960</td>\n",
       "      <td>2020-10-25 23:30</td>\n",
       "      <td>https://twitter.com/JoeBiden/status/1320507935...</td>\n",
       "      <td>It's clear Donald Trump will stop at nothing t...</td>\n",
       "      <td>4474</td>\n",
       "      <td>6540</td>\n",
       "      <td>738</td>\n",
       "      <td>34027</td>\n",
       "    </tr>\n",
       "    <tr>\n",
       "      <th>3</th>\n",
       "      <td>1320500637352693761</td>\n",
       "      <td>2020-10-25 23:01</td>\n",
       "      <td>https://twitter.com/JoeBiden/status/1320500637...</td>\n",
       "      <td>I will never give up on the American people. h...</td>\n",
       "      <td>3706</td>\n",
       "      <td>12398</td>\n",
       "      <td>1425</td>\n",
       "      <td>56596</td>\n",
       "    </tr>\n",
       "    <tr>\n",
       "      <th>4</th>\n",
       "      <td>1320485537782878208</td>\n",
       "      <td>2020-10-25 22:01</td>\n",
       "      <td>https://twitter.com/JoeBiden/status/1320485537...</td>\n",
       "      <td>Jacquelyn — I was honored to meet you in Decem...</td>\n",
       "      <td>2108</td>\n",
       "      <td>4218</td>\n",
       "      <td>520</td>\n",
       "      <td>29385</td>\n",
       "    </tr>\n",
       "  </tbody>\n",
       "</table>\n",
       "</div>"
      ],
      "text/plain": [
       "                    id         timestamp  \\\n",
       "0  1320716067111653378  2020-10-26 13:17   \n",
       "1  1320516150988451841  2020-10-26 00:02   \n",
       "2  1320507935756328960  2020-10-25 23:30   \n",
       "3  1320500637352693761  2020-10-25 23:01   \n",
       "4  1320485537782878208  2020-10-25 22:01   \n",
       "\n",
       "                                                 url  \\\n",
       "0  https://twitter.com/JoeBiden/status/1320716067...   \n",
       "1  https://twitter.com/JoeBiden/status/1320516150...   \n",
       "2  https://twitter.com/JoeBiden/status/1320507935...   \n",
       "3  https://twitter.com/JoeBiden/status/1320500637...   \n",
       "4  https://twitter.com/JoeBiden/status/1320485537...   \n",
       "\n",
       "                                               tweet  replies  retweets  \\\n",
       "0  This is the most important election of our lif...     1688      2783   \n",
       "1  Folks, the I Will Vote concert is finally here...     4497      3686   \n",
       "2  It's clear Donald Trump will stop at nothing t...     4474      6540   \n",
       "3  I will never give up on the American people. h...     3706     12398   \n",
       "4  Jacquelyn — I was honored to meet you in Decem...     2108      4218   \n",
       "\n",
       "   quotes  likes  \n",
       "0     289  20898  \n",
       "1     489  18406  \n",
       "2     738  34027  \n",
       "3    1425  56596  \n",
       "4     520  29385  "
      ]
     },
     "execution_count": 2,
     "metadata": {},
     "output_type": "execute_result"
    }
   ],
   "source": [
    "df=pd.read_csv('JoeBidenTweets.csv')\n",
    "df.head()"
   ]
  },
  {
   "cell_type": "code",
   "execution_count": 3,
   "id": "8ea065db",
   "metadata": {},
   "outputs": [],
   "source": [
    "import nltk\n",
    "import re\n",
    "import string\n",
    "from string import punctuation\n",
    "from nltk.corpus import stopwords\n",
    "def remove_punc(text):\n",
    "    text=text.lower()\n",
    "    text=re.sub('\\[.*?\\]','',text)\n",
    "    text=re.sub('https?://\\S+|www\\.\\S+', '', text)\n",
    "    text=re.sub('[%s]' %re.escape(string.punctuation),'',text)\n",
    "    text = re.sub('\\n', '', text)\n",
    "    text = re.sub('\\w*\\d\\w*', '', text)\n",
    "    return text\n"
   ]
  },
  {
   "cell_type": "code",
   "execution_count": 4,
   "id": "25c846d1",
   "metadata": {},
   "outputs": [
    {
     "data": {
      "text/plain": [
       "'csjck sdjdwldsakcsmclskkijk'"
      ]
     },
     "execution_count": 4,
     "metadata": {},
     "output_type": "execute_result"
    }
   ],
   "source": [
    "remove_punc('csjck sdjdwld/sakcsmclskk.ijk&')"
   ]
  },
  {
   "cell_type": "code",
   "execution_count": 5,
   "id": "5d343446",
   "metadata": {},
   "outputs": [],
   "source": [
    "def punctuationn_stopwords(gtext):\n",
    "    removed=[ch for ch in gtext if ch not in punctuation]\n",
    "    joining=\"\".join(removed).split()\n",
    "    final=[ch.lower() for ch in joining if ch not in stopwords.words('english')]\n",
    "    return final"
   ]
  },
  {
   "cell_type": "code",
   "execution_count": 13,
   "id": "d2cd7786",
   "metadata": {},
   "outputs": [],
   "source": [
    "df['tweet']=df['tweet'].apply(lambda x:remove_punc(x))\n",
    "#df['tweet']=df['tweet'].apply(lambda x:punctuationn_stopwords(x))"
   ]
  },
  {
   "cell_type": "code",
   "execution_count": null,
   "id": "18ad68cb",
   "metadata": {},
   "outputs": [],
   "source": [
    "df.drop(['url','id'],axis=1,inplce=True)\n"
   ]
  },
  {
   "cell_type": "code",
   "execution_count": 28,
   "id": "d3d788af",
   "metadata": {},
   "outputs": [],
   "source": [
    "import matplotlib.pyplot as plt\n",
    "from collections import Counter\n",
    "def common_terms(df):\n",
    "    word_list=[]\n",
    "    for i,j in df.iterrows():\n",
    "        for word in j['tweet']:\n",
    "            word_list.append(word)\n",
    "    count=Counter(word_list)\n",
    "    most_common=pd.DataFrame(count.most_common(9),columns=['word','count'])\n",
    "    \n",
    "    return most_common"
   ]
  },
  {
   "cell_type": "code",
   "execution_count": 29,
   "id": "be6b800a",
   "metadata": {},
   "outputs": [
    {
     "data": {
      "text/html": [
       "<div>\n",
       "<style scoped>\n",
       "    .dataframe tbody tr th:only-of-type {\n",
       "        vertical-align: middle;\n",
       "    }\n",
       "\n",
       "    .dataframe tbody tr th {\n",
       "        vertical-align: top;\n",
       "    }\n",
       "\n",
       "    .dataframe thead th {\n",
       "        text-align: right;\n",
       "    }\n",
       "</style>\n",
       "<table border=\"1\" class=\"dataframe\">\n",
       "  <thead>\n",
       "    <tr style=\"text-align: right;\">\n",
       "      <th></th>\n",
       "      <th>word</th>\n",
       "      <th>count</th>\n",
       "    </tr>\n",
       "  </thead>\n",
       "  <tbody>\n",
       "    <tr>\n",
       "      <th>0</th>\n",
       "      <td></td>\n",
       "      <td>170786</td>\n",
       "    </tr>\n",
       "    <tr>\n",
       "      <th>1</th>\n",
       "      <td>e</td>\n",
       "      <td>96271</td>\n",
       "    </tr>\n",
       "    <tr>\n",
       "      <th>2</th>\n",
       "      <td>t</td>\n",
       "      <td>72897</td>\n",
       "    </tr>\n",
       "    <tr>\n",
       "      <th>3</th>\n",
       "      <td>a</td>\n",
       "      <td>64661</td>\n",
       "    </tr>\n",
       "    <tr>\n",
       "      <th>4</th>\n",
       "      <td>o</td>\n",
       "      <td>63216</td>\n",
       "    </tr>\n",
       "    <tr>\n",
       "      <th>5</th>\n",
       "      <td>i</td>\n",
       "      <td>58091</td>\n",
       "    </tr>\n",
       "    <tr>\n",
       "      <th>6</th>\n",
       "      <td>n</td>\n",
       "      <td>56973</td>\n",
       "    </tr>\n",
       "    <tr>\n",
       "      <th>7</th>\n",
       "      <td>r</td>\n",
       "      <td>50697</td>\n",
       "    </tr>\n",
       "    <tr>\n",
       "      <th>8</th>\n",
       "      <td>s</td>\n",
       "      <td>47257</td>\n",
       "    </tr>\n",
       "  </tbody>\n",
       "</table>\n",
       "</div>"
      ],
      "text/plain": [
       "  word   count\n",
       "0       170786\n",
       "1    e   96271\n",
       "2    t   72897\n",
       "3    a   64661\n",
       "4    o   63216\n",
       "5    i   58091\n",
       "6    n   56973\n",
       "7    r   50697\n",
       "8    s   47257"
      ]
     },
     "execution_count": 29,
     "metadata": {},
     "output_type": "execute_result"
    }
   ],
   "source": [
    "common_terms(df)"
   ]
  },
  {
   "cell_type": "code",
   "execution_count": 31,
   "id": "7da1bf17",
   "metadata": {},
   "outputs": [
    {
     "data": {
      "text/plain": [
       "0       this is the most important election of our lif...\n",
       "1       folks the i will vote concert is finally here ...\n",
       "2       its clear donald trump will stop at nothing to...\n",
       "3            i will never give up on the american people \n",
       "4       jacquelyn — i was honored to meet you in decem...\n",
       "                              ...                        \n",
       "5930    news for you this morning vp biden will speak ...\n",
       "5931    campaign staff will run this account to keep y...\n",
       "5932    were excited to announce that joebiden is bein...\n",
       "5933    iowans theres a good chance theres a biden nea...\n",
       "5934    tune in  et tomorrow for a live webcast of fam...\n",
       "Name: tweet, Length: 5935, dtype: object"
      ]
     },
     "execution_count": 31,
     "metadata": {},
     "output_type": "execute_result"
    }
   ],
   "source": [
    "df['tweet']"
   ]
  },
  {
   "cell_type": "code",
   "execution_count": 36,
   "id": "1d778ed0",
   "metadata": {},
   "outputs": [
    {
     "name": "stdout",
     "output_type": "stream",
     "text": [
      "t\n"
     ]
    },
    {
     "ename": "TypeError",
     "evalue": "'NoneType' object is not subscriptable",
     "output_type": "error",
     "traceback": [
      "\u001b[1;31m---------------------------------------------------------------------------\u001b[0m",
      "\u001b[1;31mTypeError\u001b[0m                                 Traceback (most recent call last)",
      "\u001b[1;32mC:\\Users\\SAZZAD~1\\AppData\\Local\\Temp/ipykernel_6220/1611989149.py\u001b[0m in \u001b[0;36m<module>\u001b[1;34m\u001b[0m\n\u001b[0;32m      1\u001b[0m \u001b[1;32mfor\u001b[0m \u001b[0mi\u001b[0m\u001b[1;33m,\u001b[0m\u001b[0mj\u001b[0m \u001b[1;32min\u001b[0m \u001b[0mdf\u001b[0m\u001b[1;33m.\u001b[0m\u001b[0miterrows\u001b[0m\u001b[1;33m(\u001b[0m\u001b[1;33m)\u001b[0m\u001b[1;33m:\u001b[0m\u001b[1;33m\u001b[0m\u001b[1;33m\u001b[0m\u001b[0m\n\u001b[0;32m      2\u001b[0m     \u001b[1;32mfor\u001b[0m  \u001b[0mword\u001b[0m \u001b[1;32min\u001b[0m \u001b[0mj\u001b[0m\u001b[1;33m[\u001b[0m\u001b[1;34m'tweet'\u001b[0m\u001b[1;33m]\u001b[0m\u001b[1;33m:\u001b[0m\u001b[1;33m\u001b[0m\u001b[1;33m\u001b[0m\u001b[0m\n\u001b[1;32m----> 3\u001b[1;33m         \u001b[0mprint\u001b[0m\u001b[1;33m(\u001b[0m\u001b[0mword\u001b[0m\u001b[1;33m)\u001b[0m\u001b[1;33m[\u001b[0m\u001b[1;36m0\u001b[0m\u001b[1;33m]\u001b[0m\u001b[1;33m\u001b[0m\u001b[1;33m\u001b[0m\u001b[0m\n\u001b[0m",
      "\u001b[1;31mTypeError\u001b[0m: 'NoneType' object is not subscriptable"
     ]
    }
   ],
   "source": [
    "for i,j in df.iterrows():\n",
    "    for  word in j['tweet']:\n",
    "        print(word)"
   ]
  },
  {
   "cell_type": "code",
   "execution_count": null,
   "id": "27743759",
   "metadata": {},
   "outputs": [],
   "source": []
  }
 ],
 "metadata": {
  "kernelspec": {
   "display_name": "Python 3 (ipykernel)",
   "language": "python",
   "name": "python3"
  },
  "language_info": {
   "codemirror_mode": {
    "name": "ipython",
    "version": 3
   },
   "file_extension": ".py",
   "mimetype": "text/x-python",
   "name": "python",
   "nbconvert_exporter": "python",
   "pygments_lexer": "ipython3",
   "version": "3.9.7"
  }
 },
 "nbformat": 4,
 "nbformat_minor": 5
}
