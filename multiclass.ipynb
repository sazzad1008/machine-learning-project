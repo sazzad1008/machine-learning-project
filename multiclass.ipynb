{
 "cells": [
  {
   "cell_type": "code",
   "execution_count": 1,
   "id": "27ee212d",
   "metadata": {},
   "outputs": [],
   "source": [
    "import pandas as pd"
   ]
  },
  {
   "cell_type": "code",
   "execution_count": 3,
   "id": "972f49f6",
   "metadata": {},
   "outputs": [],
   "source": [
    "from sklearn.datasets import load_digits\n",
    "%matplotlib inline\n",
    "import matplotlib.pyplot as plt"
   ]
  },
  {
   "cell_type": "code",
   "execution_count": 4,
   "id": "a0ea02be",
   "metadata": {},
   "outputs": [
    {
     "data": {
      "text/plain": [
       "{'data': array([[ 0.,  0.,  5., ...,  0.,  0.,  0.],\n",
       "        [ 0.,  0.,  0., ..., 10.,  0.,  0.],\n",
       "        [ 0.,  0.,  0., ..., 16.,  9.,  0.],\n",
       "        ...,\n",
       "        [ 0.,  0.,  1., ...,  6.,  0.,  0.],\n",
       "        [ 0.,  0.,  2., ..., 12.,  0.,  0.],\n",
       "        [ 0.,  0., 10., ..., 12.,  1.,  0.]]),\n",
       " 'target': array([0, 1, 2, ..., 8, 9, 8]),\n",
       " 'frame': None,\n",
       " 'feature_names': ['pixel_0_0',\n",
       "  'pixel_0_1',\n",
       "  'pixel_0_2',\n",
       "  'pixel_0_3',\n",
       "  'pixel_0_4',\n",
       "  'pixel_0_5',\n",
       "  'pixel_0_6',\n",
       "  'pixel_0_7',\n",
       "  'pixel_1_0',\n",
       "  'pixel_1_1',\n",
       "  'pixel_1_2',\n",
       "  'pixel_1_3',\n",
       "  'pixel_1_4',\n",
       "  'pixel_1_5',\n",
       "  'pixel_1_6',\n",
       "  'pixel_1_7',\n",
       "  'pixel_2_0',\n",
       "  'pixel_2_1',\n",
       "  'pixel_2_2',\n",
       "  'pixel_2_3',\n",
       "  'pixel_2_4',\n",
       "  'pixel_2_5',\n",
       "  'pixel_2_6',\n",
       "  'pixel_2_7',\n",
       "  'pixel_3_0',\n",
       "  'pixel_3_1',\n",
       "  'pixel_3_2',\n",
       "  'pixel_3_3',\n",
       "  'pixel_3_4',\n",
       "  'pixel_3_5',\n",
       "  'pixel_3_6',\n",
       "  'pixel_3_7',\n",
       "  'pixel_4_0',\n",
       "  'pixel_4_1',\n",
       "  'pixel_4_2',\n",
       "  'pixel_4_3',\n",
       "  'pixel_4_4',\n",
       "  'pixel_4_5',\n",
       "  'pixel_4_6',\n",
       "  'pixel_4_7',\n",
       "  'pixel_5_0',\n",
       "  'pixel_5_1',\n",
       "  'pixel_5_2',\n",
       "  'pixel_5_3',\n",
       "  'pixel_5_4',\n",
       "  'pixel_5_5',\n",
       "  'pixel_5_6',\n",
       "  'pixel_5_7',\n",
       "  'pixel_6_0',\n",
       "  'pixel_6_1',\n",
       "  'pixel_6_2',\n",
       "  'pixel_6_3',\n",
       "  'pixel_6_4',\n",
       "  'pixel_6_5',\n",
       "  'pixel_6_6',\n",
       "  'pixel_6_7',\n",
       "  'pixel_7_0',\n",
       "  'pixel_7_1',\n",
       "  'pixel_7_2',\n",
       "  'pixel_7_3',\n",
       "  'pixel_7_4',\n",
       "  'pixel_7_5',\n",
       "  'pixel_7_6',\n",
       "  'pixel_7_7'],\n",
       " 'target_names': array([0, 1, 2, 3, 4, 5, 6, 7, 8, 9]),\n",
       " 'images': array([[[ 0.,  0.,  5., ...,  1.,  0.,  0.],\n",
       "         [ 0.,  0., 13., ..., 15.,  5.,  0.],\n",
       "         [ 0.,  3., 15., ..., 11.,  8.,  0.],\n",
       "         ...,\n",
       "         [ 0.,  4., 11., ..., 12.,  7.,  0.],\n",
       "         [ 0.,  2., 14., ..., 12.,  0.,  0.],\n",
       "         [ 0.,  0.,  6., ...,  0.,  0.,  0.]],\n",
       " \n",
       "        [[ 0.,  0.,  0., ...,  5.,  0.,  0.],\n",
       "         [ 0.,  0.,  0., ...,  9.,  0.,  0.],\n",
       "         [ 0.,  0.,  3., ...,  6.,  0.,  0.],\n",
       "         ...,\n",
       "         [ 0.,  0.,  1., ...,  6.,  0.,  0.],\n",
       "         [ 0.,  0.,  1., ...,  6.,  0.,  0.],\n",
       "         [ 0.,  0.,  0., ..., 10.,  0.,  0.]],\n",
       " \n",
       "        [[ 0.,  0.,  0., ..., 12.,  0.,  0.],\n",
       "         [ 0.,  0.,  3., ..., 14.,  0.,  0.],\n",
       "         [ 0.,  0.,  8., ..., 16.,  0.,  0.],\n",
       "         ...,\n",
       "         [ 0.,  9., 16., ...,  0.,  0.,  0.],\n",
       "         [ 0.,  3., 13., ..., 11.,  5.,  0.],\n",
       "         [ 0.,  0.,  0., ..., 16.,  9.,  0.]],\n",
       " \n",
       "        ...,\n",
       " \n",
       "        [[ 0.,  0.,  1., ...,  1.,  0.,  0.],\n",
       "         [ 0.,  0., 13., ...,  2.,  1.,  0.],\n",
       "         [ 0.,  0., 16., ..., 16.,  5.,  0.],\n",
       "         ...,\n",
       "         [ 0.,  0., 16., ..., 15.,  0.,  0.],\n",
       "         [ 0.,  0., 15., ..., 16.,  0.,  0.],\n",
       "         [ 0.,  0.,  2., ...,  6.,  0.,  0.]],\n",
       " \n",
       "        [[ 0.,  0.,  2., ...,  0.,  0.,  0.],\n",
       "         [ 0.,  0., 14., ..., 15.,  1.,  0.],\n",
       "         [ 0.,  4., 16., ..., 16.,  7.,  0.],\n",
       "         ...,\n",
       "         [ 0.,  0.,  0., ..., 16.,  2.,  0.],\n",
       "         [ 0.,  0.,  4., ..., 16.,  2.,  0.],\n",
       "         [ 0.,  0.,  5., ..., 12.,  0.,  0.]],\n",
       " \n",
       "        [[ 0.,  0., 10., ...,  1.,  0.,  0.],\n",
       "         [ 0.,  2., 16., ...,  1.,  0.,  0.],\n",
       "         [ 0.,  0., 15., ..., 15.,  0.,  0.],\n",
       "         ...,\n",
       "         [ 0.,  4., 16., ..., 16.,  6.,  0.],\n",
       "         [ 0.,  8., 16., ..., 16.,  8.,  0.],\n",
       "         [ 0.,  1.,  8., ..., 12.,  1.,  0.]]]),\n",
       " 'DESCR': \".. _digits_dataset:\\n\\nOptical recognition of handwritten digits dataset\\n--------------------------------------------------\\n\\n**Data Set Characteristics:**\\n\\n    :Number of Instances: 1797\\n    :Number of Attributes: 64\\n    :Attribute Information: 8x8 image of integer pixels in the range 0..16.\\n    :Missing Attribute Values: None\\n    :Creator: E. Alpaydin (alpaydin '@' boun.edu.tr)\\n    :Date: July; 1998\\n\\nThis is a copy of the test set of the UCI ML hand-written digits datasets\\nhttps://archive.ics.uci.edu/ml/datasets/Optical+Recognition+of+Handwritten+Digits\\n\\nThe data set contains images of hand-written digits: 10 classes where\\neach class refers to a digit.\\n\\nPreprocessing programs made available by NIST were used to extract\\nnormalized bitmaps of handwritten digits from a preprinted form. From a\\ntotal of 43 people, 30 contributed to the training set and different 13\\nto the test set. 32x32 bitmaps are divided into nonoverlapping blocks of\\n4x4 and the number of on pixels are counted in each block. This generates\\nan input matrix of 8x8 where each element is an integer in the range\\n0..16. This reduces dimensionality and gives invariance to small\\ndistortions.\\n\\nFor info on NIST preprocessing routines, see M. D. Garris, J. L. Blue, G.\\nT. Candela, D. L. Dimmick, J. Geist, P. J. Grother, S. A. Janet, and C.\\nL. Wilson, NIST Form-Based Handprint Recognition System, NISTIR 5469,\\n1994.\\n\\n.. topic:: References\\n\\n  - C. Kaynak (1995) Methods of Combining Multiple Classifiers and Their\\n    Applications to Handwritten Digit Recognition, MSc Thesis, Institute of\\n    Graduate Studies in Science and Engineering, Bogazici University.\\n  - E. Alpaydin, C. Kaynak (1998) Cascading Classifiers, Kybernetika.\\n  - Ken Tang and Ponnuthurai N. Suganthan and Xi Yao and A. Kai Qin.\\n    Linear dimensionalityreduction using relevance weighted LDA. School of\\n    Electrical and Electronic Engineering Nanyang Technological University.\\n    2005.\\n  - Claudio Gentile. A New Approximate Maximal Margin Classification\\n    Algorithm. NIPS. 2000.\\n\"}"
      ]
     },
     "execution_count": 4,
     "metadata": {},
     "output_type": "execute_result"
    }
   ],
   "source": [
    "digits=load_digits()\n",
    "digits"
   ]
  },
  {
   "cell_type": "code",
   "execution_count": 8,
   "id": "ff10395a",
   "metadata": {
    "scrolled": true
   },
   "outputs": [
    {
     "data": {
      "image/png": "[encoded data removed]",
      "text/plain": [
       "<Figure size 288x288 with 1 Axes>"
      ]
     },
     "metadata": {
      "needs_background": "light"
     },
     "output_type": "display_data"
    },
    {
     "data": {
      "image/png": "[encoded data removed]",
      "text/plain": [
       "<Figure size 288x288 with 1 Axes>"
      ]
     },
     "metadata": {
      "needs_background": "light"
     },
     "output_type": "display_data"
    },
    {
     "data": {
      "image/png": "[encoded data removed]",
      "text/plain": [
       "<Figure size 288x288 with 1 Axes>"
      ]
     },
     "metadata": {
      "needs_background": "light"
     },
     "output_type": "display_data"
    },
    {
     "data": {
      "image/png": "[encoded data removed]",
      "text/plain": [
       "<Figure size 288x288 with 1 Axes>"
      ]
     },
     "metadata": {
      "needs_background": "light"
     },
     "output_type": "display_data"
    },
    {
     "data": {
      "image/png": "[encoded data removed]",
      "text/plain": [
       "<Figure size 288x288 with 1 Axes>"
      ]
     },
     "metadata": {
      "needs_background": "light"
     },
     "output_type": "display_data"
    }
   ],
   "source": [
    "for i in range(5):\n",
    " plt.matshow(digits.images[i])"
   ]
  },
  {
   "cell_type": "code",
   "execution_count": 9,
   "id": "8bd5f7a4",
   "metadata": {},
   "outputs": [],
   "source": [
    "from sklearn.linear_model import LogisticRegression\n",
    "model=LogisticRegression()"
   ]
  },
  {
   "cell_type": "code",
   "execution_count": 10,
   "id": "245a42ea",
   "metadata": {},
   "outputs": [],
   "source": [
    "from sklearn.model_selection import train_test_split\n",
    "xtrain,xtest,ytrain,ytest=train_test_split(digits.data,digits.target,test_size=0.5)"
   ]
  },
  {
   "cell_type": "code",
   "execution_count": 11,
   "id": "a8b2e70f",
   "metadata": {},
   "outputs": [
    {
     "name": "stderr",
     "output_type": "stream",
     "text": [
      "C:\\Users\\sazzad555\\Anaconda3\\lib\\site-packages\\sklearn\\linear_model\\_logistic.py:763: ConvergenceWarning: lbfgs failed to converge (status=1):\n",
      "STOP: TOTAL NO. of ITERATIONS REACHED LIMIT.\n",
      "\n",
      "Increase the number of iterations (max_iter) or scale the data as shown in:\n",
      "    https://scikit-learn.org/stable/modules/preprocessing.html\n",
      "Please also refer to the documentation for alternative solver options:\n",
      "    https://scikit-learn.org/stable/modules/linear_model.html#logistic-regression\n",
      "  n_iter_i = _check_optimize_result(\n"
     ]
    },
    {
     "data": {
      "text/plain": [
       "LogisticRegression()"
      ]
     },
     "execution_count": 11,
     "metadata": {},
     "output_type": "execute_result"
    }
   ],
   "source": [
    "model.fit(xtrain,ytrain)"
   ]
  },
  {
   "cell_type": "code",
   "execution_count": 12,
   "id": "30ef0ea6",
   "metadata": {},
   "outputs": [
    {
     "data": {
      "text/plain": [
       "array([0, 2, 0, 9, 3, 9, 3, 6, 4, 5, 2, 1, 6, 8, 1, 5, 8, 1, 0, 5, 3, 8,\n",
       "       5, 5, 8, 9, 0, 0, 3, 7, 2, 6, 1, 5, 5, 5, 3, 3, 9, 2, 7, 8, 4, 4,\n",
       "       4, 1, 1, 6, 6, 4, 3, 7, 1, 4, 5, 1, 9, 3, 6, 2, 5, 3, 3, 3, 9, 6,\n",
       "       1, 9, 2, 2, 4, 8, 9, 3, 5, 0, 4, 1, 2, 1, 5, 7, 6, 4, 2, 5, 4, 0,\n",
       "       4, 0, 7, 8, 4, 8, 2, 6, 5, 8, 1, 5, 0, 9, 7, 6, 3, 7, 1, 5, 6, 2,\n",
       "       1, 3, 1, 0, 6, 1, 7, 2, 8, 8, 6, 4, 5, 7, 1, 3, 2, 7, 7, 2, 7, 6,\n",
       "       2, 5, 4, 9, 7, 6, 3, 9, 8, 6, 7, 4, 9, 3, 0, 3, 5, 5, 7, 9, 2, 9,\n",
       "       2, 2, 8, 3, 5, 4, 1, 5, 4, 9, 2, 0, 9, 1, 7, 1, 7, 6, 0, 3, 7, 1,\n",
       "       4, 7, 5, 9, 8, 6, 1, 7, 4, 5, 3, 4, 8, 0, 9, 8, 5, 3, 6, 0, 6, 9,\n",
       "       2, 3, 5, 8, 5, 0, 8, 4, 4, 8, 2, 1, 0, 6, 8, 8, 6, 4, 6, 5, 4, 9,\n",
       "       2, 2, 3, 0, 9, 7, 9, 3, 0, 0, 8, 3, 2, 4, 5, 4, 2, 5, 2, 0, 5, 1,\n",
       "       0, 0, 3, 8, 5, 2, 8, 9, 2, 9, 9, 2, 6, 1, 4, 3, 0, 1, 8, 7, 4, 2,\n",
       "       9, 0, 8, 1, 7, 3, 1, 4, 3, 7, 8, 1, 8, 4, 5, 2, 8, 2, 6, 5, 3, 1,\n",
       "       5, 8, 0, 9, 1, 7, 6, 7, 0, 3, 2, 0, 1, 4, 5, 0, 4, 5, 7, 2, 5, 7,\n",
       "       9, 9, 3, 1, 7, 3, 3, 5, 1, 9, 6, 1, 4, 4, 8, 3, 3, 4, 2, 9, 2, 1,\n",
       "       0, 5, 8, 0, 0, 4, 0, 9, 2, 3, 8, 1, 3, 3, 0, 8, 5, 1, 1, 7, 6, 2,\n",
       "       1, 7, 5, 3, 3, 2, 3, 2, 1, 6, 9, 2, 6, 7, 3, 2, 8, 9, 8, 5, 8, 1,\n",
       "       2, 0, 1, 8, 7, 2, 8, 2, 0, 0, 0, 8, 5, 7, 6, 3, 3, 5, 4, 6, 0, 1,\n",
       "       2, 7, 8, 3, 0, 7, 2, 3, 8, 6, 6, 3, 7, 7, 9, 2, 7, 4, 6, 5, 2, 3,\n",
       "       9, 0, 1, 3, 5, 5, 2, 5, 4, 7, 9, 7, 8, 8, 1, 9, 5, 7, 1, 9, 7, 4,\n",
       "       6, 0, 3, 3, 8, 1, 0, 7, 9, 3, 8, 6, 5, 6, 6, 1, 2, 5, 1, 6, 4, 0,\n",
       "       7, 7, 5, 9, 1, 2, 3, 4, 3, 5, 4, 7, 3, 8, 4, 7, 1, 4, 0, 1, 8, 1,\n",
       "       4, 4, 5, 1, 1, 7, 4, 4, 5, 9, 0, 1, 1, 7, 9, 0, 6, 6, 2, 3, 4, 9,\n",
       "       5, 2, 1, 9, 9, 0, 6, 9, 6, 7, 9, 0, 2, 9, 4, 4, 4, 5, 3, 5, 6, 5,\n",
       "       7, 4, 1, 6, 1, 2, 8, 2, 8, 4, 1, 3, 8, 5, 5, 9, 2, 7, 4, 1, 5, 8,\n",
       "       4, 2, 4, 1, 0, 1, 0, 1, 2, 7, 9, 9, 9, 5, 6, 4, 7, 4, 9, 8, 1, 4,\n",
       "       3, 1, 0, 6, 7, 3, 3, 8, 6, 1, 7, 5, 0, 2, 8, 1, 5, 2, 1, 8, 4, 5,\n",
       "       8, 9, 6, 6, 4, 9, 8, 0, 8, 5, 9, 1, 3, 2, 9, 6, 3, 7, 9, 8, 6, 4,\n",
       "       5, 0, 8, 9, 9, 3, 6, 7, 9, 9, 5, 1, 7, 5, 7, 5, 3, 2, 9, 0, 8, 9,\n",
       "       3, 0, 6, 2, 3, 4, 7, 2, 7, 2, 7, 7, 6, 6, 9, 3, 8, 3, 3, 4, 6, 6,\n",
       "       3, 6, 0, 1, 1, 4, 5, 6, 5, 0, 8, 1, 5, 5, 6, 8, 7, 2, 1, 9, 1, 3,\n",
       "       7, 2, 2, 6, 6, 5, 6, 1, 2, 6, 6, 1, 6, 7, 8, 3, 8, 8, 5, 6, 2, 7,\n",
       "       0, 0, 3, 0, 9, 2, 3, 3, 9, 7, 2, 7, 5, 5, 2, 7, 8, 6, 0, 2, 2, 0,\n",
       "       8, 4, 0, 9, 6, 9, 4, 1, 4, 1, 1, 6, 5, 4, 5, 7, 9, 3, 7, 0, 6, 9,\n",
       "       5, 7, 9, 1, 7, 2, 3, 5, 8, 0, 7, 0, 5, 3, 4, 0, 9, 3, 1, 6, 0, 2,\n",
       "       9, 1, 0, 5, 7, 5, 2, 6, 1, 6, 9, 6, 5, 8, 3, 6, 7, 8, 5, 8, 4, 6,\n",
       "       2, 6, 3, 2, 9, 3, 1, 7, 1, 0, 5, 8, 3, 9, 4, 0, 0, 9, 9, 9, 0, 8,\n",
       "       2, 8, 6, 9, 8, 3, 5, 8, 2, 0, 2, 8, 2, 0, 0, 5, 7, 5, 8, 7, 5, 1,\n",
       "       0, 6, 2, 5, 8, 6, 9, 9, 6, 9, 7, 6, 3, 3, 8, 8, 8, 2, 5, 2, 5, 4,\n",
       "       2, 3, 6, 7, 9, 1, 4, 1, 2, 6, 3, 6, 0, 4, 4, 9, 1, 8, 1, 6, 4, 5,\n",
       "       1, 6, 4, 0, 3, 1, 3, 3, 7, 7, 5, 2, 1, 6, 2, 6, 8, 3, 6])"
      ]
     },
     "execution_count": 12,
     "metadata": {},
     "output_type": "execute_result"
    }
   ],
   "source": [
    "model.predict(xtest)"
   ]
  },
  {
   "cell_type": "code",
   "execution_count": 13,
   "id": "01aea220",
   "metadata": {},
   "outputs": [
    {
     "data": {
      "text/plain": [
       "array([0, 1, 2, 3, 4])"
      ]
     },
     "execution_count": 13,
     "metadata": {},
     "output_type": "execute_result"
    }
   ],
   "source": [
    "model.predict(digits.data[0:5])"
   ]
  },
  {
   "cell_type": "code",
   "execution_count": null,
   "id": "dd3d811c",
   "metadata": {},
   "outputs": [],
   "source": []
  }
 ],
 "metadata": {
  "kernelspec": {
   "display_name": "Python 3 (ipykernel)",
   "language": "python",
   "name": "python3"
  },
  "language_info": {
   "codemirror_mode": {
    "name": "ipython",
    "version": 3
   },
   "file_extension": ".py",
   "mimetype": "text/x-python",
   "name": "python",
   "nbconvert_exporter": "python",
   "pygments_lexer": "ipython3",
   "version": "3.9.7"
  }
 },
 "nbformat": 4,
 "nbformat_minor": 5
}
